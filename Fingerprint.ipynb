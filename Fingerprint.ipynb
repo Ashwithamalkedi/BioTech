{
  "cells": [
    {
      "cell_type": "code",
      "execution_count": null,
      "metadata": {
        "colab": {
          "base_uri": "https://localhost:8080/"
        },
        "id": "C7g80N-ybeKv",
        "outputId": "3aca4cac-e35c-42b9-9d63-87f128de33d6"
      },
      "outputs": [
        {
          "name": "stdout",
          "output_type": "stream",
          "text": [
            "Requirement already satisfied: kagglehub in /usr/local/lib/python3.11/dist-packages (0.3.10)\n",
            "Requirement already satisfied: packaging in /usr/local/lib/python3.11/dist-packages (from kagglehub) (24.2)\n",
            "Requirement already satisfied: pyyaml in /usr/local/lib/python3.11/dist-packages (from kagglehub) (6.0.2)\n",
            "Requirement already satisfied: requests in /usr/local/lib/python3.11/dist-packages (from kagglehub) (2.32.3)\n",
            "Requirement already satisfied: tqdm in /usr/local/lib/python3.11/dist-packages (from kagglehub) (4.67.1)\n",
            "Requirement already satisfied: charset-normalizer<4,>=2 in /usr/local/lib/python3.11/dist-packages (from requests->kagglehub) (3.4.1)\n",
            "Requirement already satisfied: idna<4,>=2.5 in /usr/local/lib/python3.11/dist-packages (from requests->kagglehub) (3.10)\n",
            "Requirement already satisfied: urllib3<3,>=1.21.1 in /usr/local/lib/python3.11/dist-packages (from requests->kagglehub) (2.3.0)\n",
            "Requirement already satisfied: certifi>=2017.4.17 in /usr/local/lib/python3.11/dist-packages (from requests->kagglehub) (2025.1.31)\n"
          ]
        }
      ],
      "source": [
        "!pip install kagglehub"
      ]
    },
    {
      "cell_type": "code",
      "execution_count": null,
      "metadata": {
        "colab": {
          "base_uri": "https://localhost:8080/"
        },
        "id": "HRnaV8ScaGtp",
        "outputId": "bfd23fc1-29da-453a-b6a7-091c023de999"
      },
      "outputs": [
        {
          "name": "stdout",
          "output_type": "stream",
          "text": [
            "Downloading from https://www.kaggle.com/api/v1/datasets/download/ruizgara/socofing?dataset_version_number=2...\n"
          ]
        },
        {
          "name": "stderr",
          "output_type": "stream",
          "text": [
            "100%|██████████| 838M/838M [00:04<00:00, 202MB/s]"
          ]
        },
        {
          "name": "stdout",
          "output_type": "stream",
          "text": [
            "Extracting files...\n"
          ]
        },
        {
          "name": "stderr",
          "output_type": "stream",
          "text": [
            "\n"
          ]
        }
      ],
      "source": [
        "import kagglehub\n",
        "\n",
        "# Download latest version\n",
        "path = kagglehub.dataset_download(\"ruizgara/socofing\")\n",
        "\n",
        "\n",
        "\n"
      ]
    },
    {
      "cell_type": "code",
      "execution_count": null,
      "metadata": {
        "colab": {
          "background_save": true
        },
        "id": "ogflbUkWgQVY",
        "outputId": "feb326dd-8f15-4c0b-8c21-2d428bf36097"
      },
      "outputs": [
        {
          "name": "stdout",
          "output_type": "stream",
          "text": [
            "Traceback (most recent call last):\n",
            "  File \"/usr/local/bin/pip3\", line 10, in <module>\n",
            "    sys.exit(main())\n",
            "             ^^^^^^\n",
            "  File \"/usr/local/lib/python3.11/dist-packages/pip/_internal/cli/main.py\", line 78, in main\n",
            "    command = create_command(cmd_name, isolated=(\"--isolated\" in cmd_args))\n",
            "              ^^^^^^^^^^^^^^^^^^^^^^^^^^^^^^^^^^^^^^^^^^^^^^^^^^^^^^^^^^^^^\n",
            "  File \"/usr/local/lib/python3.11/dist-packages/pip/_internal/commands/__init__.py\", line 114, in create_command\n",
            "    module = importlib.import_module(module_path)\n",
            "             ^^^^^^^^^^^^^^^^^^^^^^^^^^^^^^^^^^^^\n",
            "  File \"/usr/lib/python3.11/importlib/__init__.py\", line 126, in import_module\n",
            "    return _bootstrap._gcd_import(name[level:], package, level)\n",
            "           ^^^^^^^^^^^^^^^^^^^^^^^^^^^^^^^^^^^^^^^^^^^^^^^^^^^^\n",
            "  File \"<frozen importlib._bootstrap>\", line 1204, in _gcd_import\n",
            "  File \"<frozen importlib._bootstrap>\", line 1176, in _find_and_load\n",
            "  File \"<frozen importlib._bootstrap>\", line 1147, in _find_and_load_unlocked\n",
            "  File \"<frozen importlib._bootstrap>\", line 690, in _load_unlocked\n",
            "  File \"<frozen importlib._bootstrap_external>\", line 940, in exec_module\n",
            "  File \"<frozen importlib._bootstrap>\", line 241, in _call_with_frames_removed\n",
            "  File \"/usr/local/lib/python3.11/dist-packages/pip/_internal/commands/install.py\", line 15, in <module>\n",
            "    from pip._internal.cli.req_command import (\n",
            "  File \"/usr/local/lib/python3.11/dist-packages/pip/_internal/cli/req_command.py\", line 18, in <module>\n",
            "    from pip._internal.index.collector import LinkCollector\n",
            "  File \"/usr/local/lib/python3.11/dist-packages/pip/_internal/index/collector.py\", line 31, in <module>\n",
            "    from pip._vendor import requests\n",
            "  File \"/usr/local/lib/python3.11/dist-packages/pip/_vendor/requests/__init__.py\", line 159, in <module>\n",
            "    from .api import delete, get, head, options, patch, post, put, request\n",
            "  File \"/usr/local/lib/python3.11/dist-packages/pip/_vendor/requests/api.py\", line 11, in <module>\n",
            "    from . import sessions\n",
            "  File \"/usr/local/lib/python3.11/dist-packages/pip/_vendor/requests/sessions.py\", line 15, in <module>\n",
            "    from .adapters import HTTPAdapter\n",
            "  File \"/usr/local/lib/python3.11/dist-packages/pip/_vendor/requests/adapters.py\", line 81, in <module>\n",
            "    _preloaded_ssl_context.load_verify_locations(\n",
            "KeyboardInterrupt\n",
            "^C\n"
          ]
        }
      ],
      "source": [
        "# prompt: download this dataset from kaggle hub\n",
        "# ruizgara/socofing\n",
        "\n",
        "import kagglehub\n",
        "!pip install kagglehub\n",
        "\n",
        "# Download latest version\n",
        "path = kagglehub.dataset_download(\"ruizgara/socofing\")\n"
      ]
    },
    {
      "cell_type": "code",
      "execution_count": null,
      "metadata": {
        "colab": {
          "background_save": true,
          "base_uri": "https://localhost:8080/"
        },
        "id": "C4RXmSCclHbd",
        "outputId": "0794fa57-539a-4b6e-fc9e-15b6b7b954d5"
      },
      "outputs": [
        {
          "name": "stdout",
          "output_type": "stream",
          "text": [
            "Archive:  /content/drive/MyDrive/Fingerprint/Finger.zip\n",
            "replace /content/drive/MyDrive/Fingerprint/SOCOFing/Altered/Altered-Easy/100__M_Left_index_finger_CR.BMP? [y]es, [n]o, [A]ll, [N]one, [r]ename: "
          ]
        }
      ],
      "source": [
        "# prompt: unzip this file /content/drive/MyDrive/Fingerprint/archive (10).zip\n",
        "\n",
        "!unzip /content/drive/MyDrive/Fingerprint/Finger.zip -d /content/drive/MyDrive/Fingerprint/\n"
      ]
    },
    {
      "cell_type": "code",
      "execution_count": null,
      "metadata": {
        "colab": {
          "background_save": true
        },
        "id": "biraeKuB5el7",
        "outputId": "4d8cbab7-9d52-40d2-f749-3df4b12cdf10"
      },
      "outputs": [
        {
          "name": "stdout",
          "output_type": "stream",
          "text": [
            "/bin/bash: -c: line 1: syntax error near unexpected token `('\n",
            "/bin/bash: -c: line 1: `unzip /content/archive (12).zip -d /content/drive/MyDrive/Fingerprint/'\n"
          ]
        }
      ],
      "source": [
        "!unzip /content/archive (12).zip -d /content/drive/MyDrive/Fingerprint/"
      ]
    },
    {
      "cell_type": "code",
      "execution_count": null,
      "metadata": {
        "colab": {
          "base_uri": "https://localhost:8080/"
        },
        "id": "NVR4Yy-gnkie",
        "outputId": "20c60d07-36be-43e3-aff4-5644528497b9"
      },
      "outputs": [
        {
          "name": "stdout",
          "output_type": "stream",
          "text": [
            "                                               File Path  \\\n",
            "0      /content/drive/MyDrive/Fingerprint/SOCOFing/Al...   \n",
            "1      /content/drive/MyDrive/Fingerprint/SOCOFing/Al...   \n",
            "2      /content/drive/MyDrive/Fingerprint/SOCOFing/Al...   \n",
            "3      /content/drive/MyDrive/Fingerprint/SOCOFing/Al...   \n",
            "4      /content/drive/MyDrive/Fingerprint/SOCOFing/Al...   \n",
            "...                                                  ...   \n",
            "55265  /content/drive/MyDrive/Fingerprint/SOCOFing/Re...   \n",
            "55266  /content/drive/MyDrive/Fingerprint/SOCOFing/Re...   \n",
            "55267  /content/drive/MyDrive/Fingerprint/SOCOFing/Re...   \n",
            "55268  /content/drive/MyDrive/Fingerprint/SOCOFing/Re...   \n",
            "55269  /content/drive/MyDrive/Fingerprint/SOCOFing/Re...   \n",
            "\n",
            "                               File Name File Type   Folder Name  \n",
            "0        100__M_Left_index_finger_CR.BMP      .BMP  Altered-Easy  \n",
            "1       100__M_Left_index_finger_Obl.BMP      .BMP  Altered-Easy  \n",
            "2      100__M_Left_index_finger_Zcut.BMP      .BMP  Altered-Easy  \n",
            "3       100__M_Left_little_finger_CR.BMP      .BMP  Altered-Easy  \n",
            "4      100__M_Left_little_finger_Obl.BMP      .BMP  Altered-Easy  \n",
            "...                                  ...       ...           ...  \n",
            "55265        9__M_Right_index_finger.BMP      .BMP          Real  \n",
            "55266       9__M_Right_little_finger.BMP      .BMP          Real  \n",
            "55267       9__M_Right_middle_finger.BMP      .BMP          Real  \n",
            "55268         9__M_Right_ring_finger.BMP      .BMP          Real  \n",
            "55269        9__M_Right_thumb_finger.BMP      .BMP          Real  \n",
            "\n",
            "[55270 rows x 4 columns]\n",
            "\n",
            "File Type Counts:\n",
            " File Type\n",
            ".BMP    55270\n",
            "Name: count, dtype: int64\n",
            "\n",
            "Folder Counts:\n",
            " Folder Name\n",
            "Altered-Easy      17931\n",
            "Altered-Medium    17067\n",
            "Altered-Hard      14272\n",
            "Real               6000\n",
            "Name: count, dtype: int64\n"
          ]
        }
      ],
      "source": [
        "# prompt: get all the details about theis dataset /content/drive/MyDrive/Fingerprint/SOCOFing\n",
        "# about the type of images, the folders and all the details\n",
        "\n",
        "import os\n",
        "import pandas as pd\n",
        "\n",
        "def get_dataset_details(dataset_path):\n",
        "  \"\"\"\n",
        "  Gets details about a dataset, including image types, folders, and file counts.\n",
        "\n",
        "  Args:\n",
        "    dataset_path: The path to the dataset directory.\n",
        "\n",
        "  Returns:\n",
        "    A pandas DataFrame with dataset details.\n",
        "  \"\"\"\n",
        "\n",
        "  data = []\n",
        "  for root, dirs, files in os.walk(dataset_path):\n",
        "    for file in files:\n",
        "      file_path = os.path.join(root, file)\n",
        "      file_type = os.path.splitext(file)[1]\n",
        "      folder_name = os.path.basename(root)\n",
        "\n",
        "      data.append({\n",
        "          'File Path': file_path,\n",
        "          'File Name': file,\n",
        "          'File Type': file_type,\n",
        "          'Folder Name': folder_name,\n",
        "      })\n",
        "\n",
        "  df = pd.DataFrame(data)\n",
        "  return df\n",
        "\n",
        "# Replace with your dataset path\n",
        "dataset_path = '/content/drive/MyDrive/Fingerprint/SOCOFing'\n",
        "\n",
        "df_details = get_dataset_details(dataset_path)\n",
        "print(df_details)\n",
        "\n",
        "# Get counts of different file types\n",
        "file_type_counts = df_details['File Type'].value_counts()\n",
        "print(\"\\nFile Type Counts:\\n\", file_type_counts)\n",
        "\n",
        "# Get counts of files in different folders\n",
        "folder_counts = df_details['Folder Name'].value_counts()\n",
        "print(\"\\nFolder Counts:\\n\", folder_counts)\n"
      ]
    },
    {
      "cell_type": "code",
      "execution_count": null,
      "metadata": {
        "id": "_Xxf9hJ3nj6h"
      },
      "outputs": [],
      "source": [
        "import os\n",
        "import cv2\n",
        "import numpy as np\n",
        "import tensorflow as tf\n",
        "import matplotlib.pyplot as plt\n",
        "from tensorflow.keras.applications import MobileNetV2\n",
        "from tensorflow.keras.preprocessing.image import ImageDataGenerator\n",
        "from tensorflow.keras.layers import Dense, Flatten, GlobalAveragePooling2D, Dropout\n",
        "from tensorflow.keras.models import Model\n",
        "from sklearn.model_selection import train_test_split"
      ]
    },
    {
      "cell_type": "code",
      "execution_count": null,
      "metadata": {
        "id": "eyZkoAzGrHqz"
      },
      "outputs": [],
      "source": [
        "DATASET_PATH = \"/content/drive/MyDrive/Fingerprint/SOCOFing/Real\""
      ]
    },
    {
      "cell_type": "code",
      "execution_count": null,
      "metadata": {
        "id": "tq048HaOrHbF"
      },
      "outputs": [],
      "source": [
        "# ✅ Step 4: Load and Preprocess Dataset\n",
        "IMG_SIZE = 224  # MobileNetV2 requires 224x224 images\n",
        "BATCH_SIZE = 32"
      ]
    },
    {
      "cell_type": "code",
      "execution_count": null,
      "metadata": {
        "id": "vm1-JlnAtmwI"
      },
      "outputs": [],
      "source": [
        "def load_images(directory, img_size):\n",
        "    images = []\n",
        "    labels = []\n",
        "\n",
        "    # Load all fingerprint images\n",
        "    for filename in os.listdir(directory):\n",
        "        if filename.endswith(\".BMP\"):\n",
        "            img_path = os.path.join(directory, filename)\n",
        "            img = cv2.imread(img_path, cv2.IMREAD_GRAYSCALE)  # Convert to grayscale\n",
        "            img = cv2.resize(img, (img_size, img_size))  # Resize to 224x224\n",
        "            img = img / 255.0  # Normalize\n",
        "            images.append(img)\n",
        "\n",
        "            # Extract label from filename (e.g., SubjectID__Gender_Hand_FingerName_finger.BMP)\n",
        "            label = filename.split(\"__\")[0]  # Subject ID\n",
        "            labels.append(label)\n",
        "\n",
        "    return np.array(images), np.array(labels)"
      ]
    },
    {
      "cell_type": "code",
      "execution_count": null,
      "metadata": {
        "id": "16Web_wLtmem"
      },
      "outputs": [],
      "source": [
        "# Load images and labels\n",
        "images, labels = load_images(DATASET_PATH, IMG_SIZE)\n",
        "\n",
        "# Reshape images for CNN input (Add a channel dimension)\n",
        "images = np.expand_dims(images, axis=-1)  # (N, 224, 224, 1)"
      ]
    },
    {
      "cell_type": "code",
      "execution_count": null,
      "metadata": {
        "id": "Pe7nULrVtmQE"
      },
      "outputs": [],
      "source": [
        "\n",
        "# ✅ Step 5: Convert Labels to Numeric\n",
        "from sklearn.preprocessing import LabelEncoder\n",
        "label_encoder = LabelEncoder()\n",
        "labels = label_encoder.fit_transform(labels)"
      ]
    },
    {
      "cell_type": "code",
      "execution_count": null,
      "metadata": {
        "id": "60o_B1IYt_t2"
      },
      "outputs": [],
      "source": [
        "# ✅ Step 6: Train-Test Split\n",
        "X_train, X_test, y_train, y_test = train_test_split(images, labels, test_size=0.2, random_state=42, stratify=labels)\n",
        "\n",
        "# ✅ Step 7: Convert to TensorFlow Format\n",
        "X_train = np.repeat(X_train, 3, axis=-1)  # Convert grayscale to 3 channels (MobileNetV2 needs 3-channel input)\n",
        "X_test = np.repeat(X_test, 3, axis=-1)"
      ]
    },
    {
      "cell_type": "code",
      "execution_count": null,
      "metadata": {
        "colab": {
          "base_uri": "https://localhost:8080/"
        },
        "id": "3NRKOX9bt_iI",
        "outputId": "4e053362-2ec3-4d83-a1da-b713744a9014"
      },
      "outputs": [
        {
          "name": "stdout",
          "output_type": "stream",
          "text": [
            "Downloading data from https://storage.googleapis.com/tensorflow/keras-applications/mobilenet_v2/mobilenet_v2_weights_tf_dim_ordering_tf_kernels_1.0_224_no_top.h5\n",
            "\u001b[1m9406464/9406464\u001b[0m \u001b[32m━━━━━━━━━━━━━━━━━━━━\u001b[0m\u001b[37m\u001b[0m \u001b[1m0s\u001b[0m 0us/step\n"
          ]
        }
      ],
      "source": [
        "# ✅ Step 8: Load Pretrained MobileNetV2 Model\n",
        "base_model = MobileNetV2(input_shape=(IMG_SIZE, IMG_SIZE, 3), include_top=False, weights=\"imagenet\")\n",
        "\n",
        "# Freeze the base model layers\n",
        "base_model.trainable = False"
      ]
    },
    {
      "cell_type": "code",
      "execution_count": null,
      "metadata": {
        "id": "PPVQHe-auW4D"
      },
      "outputs": [],
      "source": [
        "# ✅ Step 9: Add Custom Layers\n",
        "x = base_model.output\n",
        "x = GlobalAveragePooling2D()(x)  # Global pooling\n",
        "x = Dense(512, activation=\"relu\")(x)  # Fully connected layer\n",
        "x = Dropout(0.3)(x)  # Regularization\n",
        "x = Dense(256, activation=\"relu\")(x)\n",
        "output_layer = Dense(len(set(labels)), activation=\"softmax\")"
      ]
    },
    {
      "cell_type": "code",
      "execution_count": null,
      "metadata": {
        "colab": {
          "base_uri": "https://localhost:8080/",
          "height": 321
        },
        "id": "VdirA1u2ubay",
        "outputId": "255fc450-1faa-4060-b0ff-dd628e0d21f5"
      },
      "outputs": [
        {
          "ename": "ValueError",
          "evalue": "All `outputs` values must be KerasTensors. Received: outputs=<Dense name=dense_5, built=False> including invalid value <Dense name=dense_5, built=False> of type <class 'keras.src.layers.core.dense.Dense'>",
          "output_type": "error",
          "traceback": [
            "\u001b[0;31m---------------------------------------------------------------------------\u001b[0m",
            "\u001b[0;31mValueError\u001b[0m                                Traceback (most recent call last)",
            "\u001b[0;32m<ipython-input-25-54eb70e2cbaf>\u001b[0m in \u001b[0;36m<cell line: 0>\u001b[0;34m()\u001b[0m\n\u001b[1;32m      1\u001b[0m \u001b[0;31m# ✅ Step 10: Create Model\u001b[0m\u001b[0;34m\u001b[0m\u001b[0;34m\u001b[0m\u001b[0m\n\u001b[0;32m----> 2\u001b[0;31m \u001b[0mmodel\u001b[0m \u001b[0;34m=\u001b[0m \u001b[0mModel\u001b[0m\u001b[0;34m(\u001b[0m\u001b[0minputs\u001b[0m\u001b[0;34m=\u001b[0m\u001b[0mbase_model\u001b[0m\u001b[0;34m.\u001b[0m\u001b[0minput\u001b[0m\u001b[0;34m,\u001b[0m \u001b[0moutputs\u001b[0m\u001b[0;34m=\u001b[0m\u001b[0moutput_layer\u001b[0m\u001b[0;34m)\u001b[0m\u001b[0;34m\u001b[0m\u001b[0;34m\u001b[0m\u001b[0m\n\u001b[0m",
            "\u001b[0;32m/usr/local/lib/python3.11/dist-packages/keras/src/utils/tracking.py\u001b[0m in \u001b[0;36mwrapper\u001b[0;34m(*args, **kwargs)\u001b[0m\n\u001b[1;32m     24\u001b[0m     \u001b[0;32mdef\u001b[0m \u001b[0mwrapper\u001b[0m\u001b[0;34m(\u001b[0m\u001b[0;34m*\u001b[0m\u001b[0margs\u001b[0m\u001b[0;34m,\u001b[0m \u001b[0;34m**\u001b[0m\u001b[0mkwargs\u001b[0m\u001b[0;34m)\u001b[0m\u001b[0;34m:\u001b[0m\u001b[0;34m\u001b[0m\u001b[0;34m\u001b[0m\u001b[0m\n\u001b[1;32m     25\u001b[0m         \u001b[0;32mwith\u001b[0m \u001b[0mDotNotTrackScope\u001b[0m\u001b[0;34m(\u001b[0m\u001b[0;34m)\u001b[0m\u001b[0;34m:\u001b[0m\u001b[0;34m\u001b[0m\u001b[0;34m\u001b[0m\u001b[0m\n\u001b[0;32m---> 26\u001b[0;31m             \u001b[0;32mreturn\u001b[0m \u001b[0mfn\u001b[0m\u001b[0;34m(\u001b[0m\u001b[0;34m*\u001b[0m\u001b[0margs\u001b[0m\u001b[0;34m,\u001b[0m \u001b[0;34m**\u001b[0m\u001b[0mkwargs\u001b[0m\u001b[0;34m)\u001b[0m\u001b[0;34m\u001b[0m\u001b[0;34m\u001b[0m\u001b[0m\n\u001b[0m\u001b[1;32m     27\u001b[0m \u001b[0;34m\u001b[0m\u001b[0m\n\u001b[1;32m     28\u001b[0m     \u001b[0;32mreturn\u001b[0m \u001b[0mwrapper\u001b[0m\u001b[0;34m\u001b[0m\u001b[0;34m\u001b[0m\u001b[0m\n",
            "\u001b[0;32m/usr/local/lib/python3.11/dist-packages/keras/src/models/functional.py\u001b[0m in \u001b[0;36m__init__\u001b[0;34m(self, inputs, outputs, name, **kwargs)\u001b[0m\n\u001b[1;32m    124\u001b[0m         \u001b[0;32mfor\u001b[0m \u001b[0mx\u001b[0m \u001b[0;32min\u001b[0m \u001b[0mflat_outputs\u001b[0m\u001b[0;34m:\u001b[0m\u001b[0;34m\u001b[0m\u001b[0;34m\u001b[0m\u001b[0m\n\u001b[1;32m    125\u001b[0m             \u001b[0;32mif\u001b[0m \u001b[0;32mnot\u001b[0m \u001b[0misinstance\u001b[0m\u001b[0;34m(\u001b[0m\u001b[0mx\u001b[0m\u001b[0;34m,\u001b[0m \u001b[0mbackend\u001b[0m\u001b[0;34m.\u001b[0m\u001b[0mKerasTensor\u001b[0m\u001b[0;34m)\u001b[0m\u001b[0;34m:\u001b[0m\u001b[0;34m\u001b[0m\u001b[0;34m\u001b[0m\u001b[0m\n\u001b[0;32m--> 126\u001b[0;31m                 raise ValueError(\n\u001b[0m\u001b[1;32m    127\u001b[0m                     \u001b[0;34m\"All `outputs` values must be KerasTensors. Received: \"\u001b[0m\u001b[0;34m\u001b[0m\u001b[0;34m\u001b[0m\u001b[0m\n\u001b[1;32m    128\u001b[0m                     \u001b[0;34mf\"outputs={outputs} including invalid value {x} of \"\u001b[0m\u001b[0;34m\u001b[0m\u001b[0;34m\u001b[0m\u001b[0m\n",
            "\u001b[0;31mValueError\u001b[0m: All `outputs` values must be KerasTensors. Received: outputs=<Dense name=dense_5, built=False> including invalid value <Dense name=dense_5, built=False> of type <class 'keras.src.layers.core.dense.Dense'>"
          ]
        }
      ],
      "source": [
        "\n",
        "\n",
        "# ✅ Step 10: Create Model\n",
        "model = Model(inputs=base_model.input, outputs=output_layer)"
      ]
    },
    {
      "cell_type": "code",
      "execution_count": null,
      "metadata": {
        "id": "K7Hy2a13umpi"
      },
      "outputs": [],
      "source": [
        "# ✅ Step 9: Add Custom Layers (Ensure Connection)\n",
        "x = base_model.output\n",
        "x = GlobalAveragePooling2D()(x)  # Global pooling\n",
        "x = Dense(512, activation=\"relu\")(x)  # Fully connected layer\n",
        "x = Dropout(0.3)(x)  # Regularization\n",
        "x = Dense(256, activation=\"relu\")(x)  # Additional dense layer\n",
        "output_layer = Dense(len(set(labels)), activation=\"softmax\", name=\"output_layer\")(x)  # Output layer\n",
        "\n",
        "# ✅ Step 10: Create Model (Now Properly Connected)\n",
        "model = Model(inputs=base_model.input, outputs=output_layer)\n",
        "\n",
        "# ✅ Step 11: Compile Model\n",
        "model.compile(optimizer=\"adam\", loss=\"sparse_categorical_crossentropy\", metrics=[\"accuracy\"])\n"
      ]
    },
    {
      "cell_type": "code",
      "execution_count": null,
      "metadata": {
        "colab": {
          "base_uri": "https://localhost:8080/"
        },
        "id": "icS8ILV7t_XL",
        "outputId": "dc2606c8-16f6-4f5a-afcc-3e6b5c098ffe"
      },
      "outputs": [
        {
          "name": "stdout",
          "output_type": "stream",
          "text": [
            "Epoch 1/10\n",
            "\u001b[1m150/150\u001b[0m \u001b[32m━━━━━━━━━━━━━━━━━━━━\u001b[0m\u001b[37m\u001b[0m \u001b[1m38s\u001b[0m 124ms/step - accuracy: 0.0015 - loss: 6.4853 - val_accuracy: 0.0025 - val_loss: 6.3107\n",
            "Epoch 2/10\n",
            "\u001b[1m150/150\u001b[0m \u001b[32m━━━━━━━━━━━━━━━━━━━━\u001b[0m\u001b[37m\u001b[0m \u001b[1m2s\u001b[0m 15ms/step - accuracy: 0.0076 - loss: 6.2270 - val_accuracy: 0.0167 - val_loss: 5.9094\n",
            "Epoch 3/10\n",
            "\u001b[1m150/150\u001b[0m \u001b[32m━━━━━━━━━━━━━━━━━━━━\u001b[0m\u001b[37m\u001b[0m \u001b[1m2s\u001b[0m 15ms/step - accuracy: 0.0193 - loss: 5.7206 - val_accuracy: 0.0292 - val_loss: 5.4575\n",
            "Epoch 4/10\n",
            "\u001b[1m150/150\u001b[0m \u001b[32m━━━━━━━━━━━━━━━━━━━━\u001b[0m\u001b[37m\u001b[0m \u001b[1m2s\u001b[0m 15ms/step - accuracy: 0.0418 - loss: 5.1724 - val_accuracy: 0.0375 - val_loss: 5.2119\n",
            "Epoch 5/10\n",
            "\u001b[1m150/150\u001b[0m \u001b[32m━━━━━━━━━━━━━━━━━━━━\u001b[0m\u001b[37m\u001b[0m \u001b[1m2s\u001b[0m 15ms/step - accuracy: 0.0669 - loss: 4.7978 - val_accuracy: 0.0667 - val_loss: 4.9949\n",
            "Epoch 6/10\n",
            "\u001b[1m150/150\u001b[0m \u001b[32m━━━━━━━━━━━━━━━━━━━━\u001b[0m\u001b[37m\u001b[0m \u001b[1m2s\u001b[0m 15ms/step - accuracy: 0.0934 - loss: 4.4751 - val_accuracy: 0.0867 - val_loss: 4.8501\n",
            "Epoch 7/10\n",
            "\u001b[1m150/150\u001b[0m \u001b[32m━━━━━━━━━━━━━━━━━━━━\u001b[0m\u001b[37m\u001b[0m \u001b[1m2s\u001b[0m 15ms/step - accuracy: 0.1193 - loss: 4.1721 - val_accuracy: 0.0850 - val_loss: 4.7558\n",
            "Epoch 8/10\n",
            "\u001b[1m150/150\u001b[0m \u001b[32m━━━━━━━━━━━━━━━━━━━━\u001b[0m\u001b[37m\u001b[0m \u001b[1m2s\u001b[0m 15ms/step - accuracy: 0.1364 - loss: 3.9175 - val_accuracy: 0.1042 - val_loss: 4.7726\n",
            "Epoch 9/10\n",
            "\u001b[1m150/150\u001b[0m \u001b[32m━━━━━━━━━━━━━━━━━━━━\u001b[0m\u001b[37m\u001b[0m \u001b[1m2s\u001b[0m 15ms/step - accuracy: 0.1593 - loss: 3.7129 - val_accuracy: 0.1075 - val_loss: 4.7010\n",
            "Epoch 10/10\n",
            "\u001b[1m150/150\u001b[0m \u001b[32m━━━━━━━━━━━━━━━━━━━━\u001b[0m\u001b[37m\u001b[0m \u001b[1m2s\u001b[0m 15ms/step - accuracy: 0.2104 - loss: 3.4612 - val_accuracy: 0.1150 - val_loss: 4.6944\n"
          ]
        },
        {
          "name": "stderr",
          "output_type": "stream",
          "text": [
            "WARNING:absl:You are saving your model as an HDF5 file via `model.save()` or `keras.saving.save_model(model)`. This file format is considered legacy. We recommend using instead the native Keras format, e.g. `model.save('my_model.keras')` or `keras.saving.save_model(model, 'my_model.keras')`. \n"
          ]
        }
      ],
      "source": [
        "\n",
        "\n",
        "\n",
        "\n",
        "# ✅ Step 12: Train Model\n",
        "history = model.fit(X_train, y_train, validation_data=(X_test, y_test), batch_size=BATCH_SIZE, epochs=10)\n",
        "\n",
        "# ✅ Step 13: Save Model\n",
        "model.save(\"/content/drive/MyDrive/Fingerprint/fingerprint_model.h5\")"
      ]
    },
    {
      "cell_type": "code",
      "execution_count": null,
      "metadata": {
        "colab": {
          "base_uri": "https://localhost:8080/"
        },
        "id": "6QmRpsIKuMKi",
        "outputId": "c76d8dfa-1e03-49fe-8947-95266b2deb38"
      },
      "outputs": [
        {
          "name": "stdout",
          "output_type": "stream",
          "text": [
            "\u001b[1m38/38\u001b[0m \u001b[32m━━━━━━━━━━━━━━━━━━━━\u001b[0m\u001b[37m\u001b[0m \u001b[1m1s\u001b[0m 12ms/step - accuracy: 0.1141 - loss: 4.6837\n",
            "Test Accuracy: 11.50%\n"
          ]
        }
      ],
      "source": [
        "\n",
        "# ✅ Step 14: Evaluate Model\n",
        "loss, acc = model.evaluate(X_test, y_test)\n",
        "print(f\"Test Accuracy: {acc * 100:.2f}%\")"
      ]
    },
    {
      "cell_type": "code",
      "execution_count": null,
      "metadata": {
        "colab": {
          "base_uri": "https://localhost:8080/"
        },
        "id": "KAcN6YfYuL0W",
        "outputId": "4aa4132e-7be8-4525-ae9e-6aa366d635d2"
      },
      "outputs": [
        {
          "name": "stdout",
          "output_type": "stream",
          "text": [
            "\u001b[1m1/1\u001b[0m \u001b[32m━━━━━━━━━━━━━━━━━━━━\u001b[0m\u001b[37m\u001b[0m \u001b[1m0s\u001b[0m 41ms/step\n",
            "Matched Subject ID: 477\n"
          ]
        }
      ],
      "source": [
        "def match_fingerprint(image_path, model, label_encoder):\n",
        "    # Load and preprocess image\n",
        "    img = cv2.imread(image_path, cv2.IMREAD_GRAYSCALE)\n",
        "    img = cv2.resize(img, (224, 224)) / 255.0\n",
        "    img = np.expand_dims(img, axis=-1)  # Add channel dimension\n",
        "    img = np.repeat(img, 3, axis=-1)  # Convert to 3 channels\n",
        "    img = np.expand_dims(img, axis=0)  # Add batch dimension\n",
        "\n",
        "    # Get prediction\n",
        "    pred = model.predict(img)\n",
        "    predicted_label = np.argmax(pred, axis=1)\n",
        "\n",
        "    # Convert numeric label back to SubjectID\n",
        "    subject_id = label_encoder.inverse_transform(predicted_label)[0]\n",
        "    return subject_id\n",
        "\n",
        "# Example usage:\n",
        "image_path = \"/content/finger1.BMP\"\n",
        "subject_id = match_fingerprint(image_path, model, label_encoder)\n",
        "print(f\"Matched Subject ID: {subject_id}\")\n"
      ]
    },
    {
      "cell_type": "code",
      "execution_count": null,
      "metadata": {
        "id": "fA15qNMG0L7X"
      },
      "outputs": [],
      "source": []
    },
    {
      "cell_type": "code",
      "execution_count": null,
      "metadata": {
        "id": "judeJw4C0L4B"
      },
      "outputs": [],
      "source": []
    },
    {
      "cell_type": "code",
      "execution_count": null,
      "metadata": {
        "colab": {
          "base_uri": "https://localhost:8080/"
        },
        "id": "quiJwJyO0L1J",
        "outputId": "a7f22603-cba1-49c5-94d4-54f05d2e70b6"
      },
      "outputs": [
        {
          "name": "stdout",
          "output_type": "stream",
          "text": [
            "\u001b[?25l   \u001b[90m━━━━━━━━━━━━━━━━━━━━━━━━━━━━━━━━━━━━━━━━\u001b[0m \u001b[32m0.0/50.7 kB\u001b[0m \u001b[31m?\u001b[0m eta \u001b[36m-:--:--\u001b[0m\r\u001b[2K   \u001b[90m━━━━━━━━━━━━━━━━━━━━━━━━━━━━━━━━━━━━━━━━\u001b[0m \u001b[32m50.7/50.7 kB\u001b[0m \u001b[31m2.1 MB/s\u001b[0m eta \u001b[36m0:00:00\u001b[0m\n",
            "\u001b[?25h"
          ]
        }
      ],
      "source": [
        "# ✅ Step 1: Install & Import Dependencies\n",
        "!pip install -q tensorflow keras efficientnet"
      ]
    },
    {
      "cell_type": "code",
      "execution_count": null,
      "metadata": {
        "id": "Oxg2ajjC0LyJ"
      },
      "outputs": [],
      "source": [
        "import os\n",
        "import numpy as np\n",
        "import tensorflow as tf\n",
        "import matplotlib.pyplot as plt\n",
        "import seaborn as sns\n",
        "\n",
        "from tensorflow.keras.preprocessing.image import ImageDataGenerator\n",
        "from tensorflow.keras.applications import EfficientNetB0\n",
        "from tensorflow.keras.models import Model\n",
        "from tensorflow.keras.layers import Dense, Dropout, GlobalAveragePooling2D\n",
        "from tensorflow.keras.optimizers import Adam\n",
        "from sklearn.metrics import confusion_matrix, classification_report\n",
        "from google.colab import drive"
      ]
    },
    {
      "cell_type": "code",
      "execution_count": null,
      "metadata": {
        "id": "5IRn1LLa0LvE"
      },
      "outputs": [],
      "source": [
        "DATASET_PATH = \"/content/drive/MyDrive/Fingerprint/SOCOFing\""
      ]
    },
    {
      "cell_type": "code",
      "execution_count": null,
      "metadata": {
        "id": "5Kbl5Xfz0Lry"
      },
      "outputs": [],
      "source": [
        "# ✅ Step 3: Define Image Size & Hyperparameters\n",
        "IMG_SIZE = (224, 224)\n",
        "BATCH_SIZE = 32\n",
        "EPOCHS = 25  # Increase if needed"
      ]
    },
    {
      "cell_type": "code",
      "execution_count": null,
      "metadata": {
        "colab": {
          "base_uri": "https://localhost:8080/"
        },
        "id": "y7XgZ43o0Lok",
        "outputId": "8abfbc53-ea44-4e47-85d7-e8227656a081"
      },
      "outputs": [
        {
          "name": "stdout",
          "output_type": "stream",
          "text": [
            "Found 44216 images belonging to 2 classes.\n",
            "Found 11054 images belonging to 2 classes.\n"
          ]
        }
      ],
      "source": [
        "# ✅ Step 4: Data Augmentation & Preprocessing\n",
        "train_datagen = ImageDataGenerator(\n",
        "    rescale=1./255,\n",
        "    rotation_range=15,\n",
        "    width_shift_range=0.1,\n",
        "    height_shift_range=0.1,\n",
        "    shear_range=0.2,\n",
        "    zoom_range=0.2,\n",
        "    horizontal_flip=True,\n",
        "    validation_split=0.2\n",
        ")\n",
        "\n",
        "train_generator = train_datagen.flow_from_directory(\n",
        "    DATASET_PATH,\n",
        "    target_size=IMG_SIZE,\n",
        "    batch_size=BATCH_SIZE,\n",
        "    class_mode=\"sparse\",\n",
        "    subset=\"training\"\n",
        ")\n",
        "\n",
        "val_generator = train_datagen.flow_from_directory(\n",
        "    DATASET_PATH,\n",
        "    target_size=IMG_SIZE,\n",
        "    batch_size=BATCH_SIZE,\n",
        "    class_mode=\"sparse\",\n",
        "    subset=\"validation\"\n",
        ")\n"
      ]
    },
    {
      "cell_type": "code",
      "execution_count": null,
      "metadata": {
        "colab": {
          "base_uri": "https://localhost:8080/"
        },
        "id": "U6un2O560LlW",
        "outputId": "6731e8ba-7abe-433c-9871-2b1d8fa53dfc"
      },
      "outputs": [
        {
          "name": "stdout",
          "output_type": "stream",
          "text": [
            "Downloading data from https://storage.googleapis.com/keras-applications/efficientnetb0_notop.h5\n",
            "\u001b[1m16705208/16705208\u001b[0m \u001b[32m━━━━━━━━━━━━━━━━━━━━\u001b[0m\u001b[37m\u001b[0m \u001b[1m0s\u001b[0m 0us/step\n"
          ]
        }
      ],
      "source": [
        "# ✅ Step 5: Load EfficientNetB0 (Pretrained Model)\n",
        "base_model = EfficientNetB0(weights=\"imagenet\", include_top=False, input_shape=(224, 224, 3))\n",
        "\n",
        "# ✅ Step 6: Freeze Base Model (Transfer Learning)\n",
        "base_model.trainable = False"
      ]
    },
    {
      "cell_type": "code",
      "execution_count": null,
      "metadata": {
        "id": "3SaCGdmO0Lh1"
      },
      "outputs": [],
      "source": [
        "# ✅ Step 7: Add Custom Layers\n",
        "x = base_model.output\n",
        "x = GlobalAveragePooling2D()(x)  # Pooling to reduce dimensions\n",
        "x = Dense(512, activation=\"relu\")(x)  # Fully connected layer\n",
        "x = Dropout(0.3)(x)  # Prevent overfitting\n",
        "x = Dense(256, activation=\"relu\")(x)\n",
        "x = Dropout(0.3)(x)\n",
        "output_layer = Dense(len(train_generator.class_indices), activation=\"softmax\")(x)\n"
      ]
    },
    {
      "cell_type": "code",
      "execution_count": null,
      "metadata": {
        "id": "lEaUMzQ-0Leb"
      },
      "outputs": [],
      "source": [
        "\n",
        "# ✅ Step 8: Create Model\n",
        "model = Model(inputs=base_model.input, outputs=output_layer)"
      ]
    },
    {
      "cell_type": "code",
      "execution_count": null,
      "metadata": {
        "id": "Pe5QUaWu0LbU"
      },
      "outputs": [],
      "source": [
        "\n",
        "# ✅ Step 9: Compile Model\n",
        "model.compile(\n",
        "    optimizer=Adam(learning_rate=0.0005),  # Fine-tuned LR\n",
        "    loss=\"sparse_categorical_crossentropy\",\n",
        "    metrics=[\"accuracy\"]\n",
        ")"
      ]
    },
    {
      "cell_type": "code",
      "execution_count": null,
      "metadata": {
        "colab": {
          "base_uri": "https://localhost:8080/"
        },
        "id": "iPG4JHOm0LQS",
        "outputId": "4f97151b-29b5-48f4-fa46-48be4125eb6b"
      },
      "outputs": [
        {
          "name": "stderr",
          "output_type": "stream",
          "text": [
            "/usr/local/lib/python3.11/dist-packages/keras/src/trainers/data_adapters/py_dataset_adapter.py:121: UserWarning: Your `PyDataset` class should call `super().__init__(**kwargs)` in its constructor. `**kwargs` can include `workers`, `use_multiprocessing`, `max_queue_size`. Do not pass these arguments to `fit()`, as they will be ignored.\n",
            "  self._warn_if_super_not_called()\n"
          ]
        },
        {
          "name": "stdout",
          "output_type": "stream",
          "text": [
            "Epoch 1/25\n",
            "\u001b[1m1382/1382\u001b[0m \u001b[32m━━━━━━━━━━━━━━━━━━━━\u001b[0m\u001b[37m\u001b[0m \u001b[1m880s\u001b[0m 617ms/step - accuracy: 0.8903 - loss: 0.3539 - val_accuracy: 0.8914 - val_loss: 0.3420\n",
            "Epoch 2/25\n",
            "\u001b[1m1382/1382\u001b[0m \u001b[32m━━━━━━━━━━━━━━━━━━━━\u001b[0m\u001b[37m\u001b[0m \u001b[1m672s\u001b[0m 486ms/step - accuracy: 0.8926 - loss: 0.3426 - val_accuracy: 0.8914 - val_loss: 0.3437\n",
            "Epoch 3/25\n",
            "\u001b[1m1382/1382\u001b[0m \u001b[32m━━━━━━━━━━━━━━━━━━━━\u001b[0m\u001b[37m\u001b[0m \u001b[1m672s\u001b[0m 487ms/step - accuracy: 0.8934 - loss: 0.3374 - val_accuracy: 0.8914 - val_loss: 0.3441\n",
            "Epoch 4/25\n",
            "\u001b[1m1382/1382\u001b[0m \u001b[32m━━━━━━━━━━━━━━━━━━━━\u001b[0m\u001b[37m\u001b[0m \u001b[1m668s\u001b[0m 483ms/step - accuracy: 0.8931 - loss: 0.3372 - val_accuracy: 0.8914 - val_loss: 0.3398\n",
            "Epoch 5/25\n",
            "\u001b[1m1382/1382\u001b[0m \u001b[32m━━━━━━━━━━━━━━━━━━━━\u001b[0m\u001b[37m\u001b[0m \u001b[1m654s\u001b[0m 473ms/step - accuracy: 0.8929 - loss: 0.3357 - val_accuracy: 0.8914 - val_loss: 0.3408\n",
            "Epoch 6/25\n",
            "\u001b[1m1382/1382\u001b[0m \u001b[32m━━━━━━━━━━━━━━━━━━━━\u001b[0m\u001b[37m\u001b[0m \u001b[1m655s\u001b[0m 474ms/step - accuracy: 0.8942 - loss: 0.3305 - val_accuracy: 0.8914 - val_loss: 0.3408\n",
            "Epoch 7/25\n",
            "\u001b[1m1382/1382\u001b[0m \u001b[32m━━━━━━━━━━━━━━━━━━━━\u001b[0m\u001b[37m\u001b[0m \u001b[1m652s\u001b[0m 472ms/step - accuracy: 0.8891 - loss: 0.3429 - val_accuracy: 0.8914 - val_loss: 0.3437\n",
            "Epoch 8/25\n",
            "\u001b[1m1382/1382\u001b[0m \u001b[32m━━━━━━━━━━━━━━━━━━━━\u001b[0m\u001b[37m\u001b[0m \u001b[1m653s\u001b[0m 472ms/step - accuracy: 0.8898 - loss: 0.3402 - val_accuracy: 0.8914 - val_loss: 0.3411\n",
            "Epoch 9/25\n",
            "\u001b[1m1382/1382\u001b[0m \u001b[32m━━━━━━━━━━━━━━━━━━━━\u001b[0m\u001b[37m\u001b[0m \u001b[1m654s\u001b[0m 473ms/step - accuracy: 0.8923 - loss: 0.3332 - val_accuracy: 0.8914 - val_loss: 0.3449\n",
            "Epoch 10/25\n",
            "\u001b[1m1382/1382\u001b[0m \u001b[32m━━━━━━━━━━━━━━━━━━━━\u001b[0m\u001b[37m\u001b[0m \u001b[1m657s\u001b[0m 475ms/step - accuracy: 0.8912 - loss: 0.3364 - val_accuracy: 0.8914 - val_loss: 0.3412\n",
            "Epoch 11/25\n",
            "\u001b[1m1382/1382\u001b[0m \u001b[32m━━━━━━━━━━━━━━━━━━━━\u001b[0m\u001b[37m\u001b[0m \u001b[1m655s\u001b[0m 474ms/step - accuracy: 0.8937 - loss: 0.3312 - val_accuracy: 0.8914 - val_loss: 0.3506\n",
            "Epoch 12/25\n",
            "\u001b[1m1382/1382\u001b[0m \u001b[32m━━━━━━━━━━━━━━━━━━━━\u001b[0m\u001b[37m\u001b[0m \u001b[1m655s\u001b[0m 474ms/step - accuracy: 0.8923 - loss: 0.3343 - val_accuracy: 0.8914 - val_loss: 0.3462\n",
            "Epoch 13/25\n",
            "\u001b[1m1382/1382\u001b[0m \u001b[32m━━━━━━━━━━━━━━━━━━━━\u001b[0m\u001b[37m\u001b[0m \u001b[1m662s\u001b[0m 479ms/step - accuracy: 0.8917 - loss: 0.3347 - val_accuracy: 0.8914 - val_loss: 0.3437\n",
            "Epoch 14/25\n",
            "\u001b[1m1382/1382\u001b[0m \u001b[32m━━━━━━━━━━━━━━━━━━━━\u001b[0m\u001b[37m\u001b[0m \u001b[1m656s\u001b[0m 475ms/step - accuracy: 0.8919 - loss: 0.3340 - val_accuracy: 0.8914 - val_loss: 0.3454\n",
            "Epoch 15/25\n",
            "\u001b[1m1382/1382\u001b[0m \u001b[32m━━━━━━━━━━━━━━━━━━━━\u001b[0m\u001b[37m\u001b[0m \u001b[1m653s\u001b[0m 473ms/step - accuracy: 0.8937 - loss: 0.3302 - val_accuracy: 0.8914 - val_loss: 0.3503\n",
            "Epoch 16/25\n",
            "\u001b[1m1382/1382\u001b[0m \u001b[32m━━━━━━━━━━━━━━━━━━━━\u001b[0m\u001b[37m\u001b[0m \u001b[1m656s\u001b[0m 475ms/step - accuracy: 0.8889 - loss: 0.3401 - val_accuracy: 0.8914 - val_loss: 0.3628\n",
            "Epoch 17/25\n",
            "\u001b[1m1382/1382\u001b[0m \u001b[32m━━━━━━━━━━━━━━━━━━━━\u001b[0m\u001b[37m\u001b[0m \u001b[1m655s\u001b[0m 474ms/step - accuracy: 0.8919 - loss: 0.3347 - val_accuracy: 0.8914 - val_loss: 0.3473\n",
            "Epoch 18/25\n",
            "\u001b[1m1382/1382\u001b[0m \u001b[32m━━━━━━━━━━━━━━━━━━━━\u001b[0m\u001b[37m\u001b[0m \u001b[1m651s\u001b[0m 471ms/step - accuracy: 0.8929 - loss: 0.3320 - val_accuracy: 0.8914 - val_loss: 0.3426\n",
            "Epoch 19/25\n",
            "\u001b[1m1382/1382\u001b[0m \u001b[32m━━━━━━━━━━━━━━━━━━━━\u001b[0m\u001b[37m\u001b[0m \u001b[1m653s\u001b[0m 473ms/step - accuracy: 0.8924 - loss: 0.3335 - val_accuracy: 0.8914 - val_loss: 0.3483\n",
            "Epoch 20/25\n",
            "\u001b[1m1382/1382\u001b[0m \u001b[32m━━━━━━━━━━━━━━━━━━━━\u001b[0m\u001b[37m\u001b[0m \u001b[1m653s\u001b[0m 472ms/step - accuracy: 0.8887 - loss: 0.3386 - val_accuracy: 0.8914 - val_loss: 0.3406\n",
            "Epoch 21/25\n",
            "\u001b[1m1382/1382\u001b[0m \u001b[32m━━━━━━━━━━━━━━━━━━━━\u001b[0m\u001b[37m\u001b[0m \u001b[1m654s\u001b[0m 474ms/step - accuracy: 0.8920 - loss: 0.3320 - val_accuracy: 0.8914 - val_loss: 0.3406\n",
            "Epoch 22/25\n",
            "\u001b[1m1382/1382\u001b[0m \u001b[32m━━━━━━━━━━━━━━━━━━━━\u001b[0m\u001b[37m\u001b[0m \u001b[1m653s\u001b[0m 472ms/step - accuracy: 0.8923 - loss: 0.3320 - val_accuracy: 0.8914 - val_loss: 0.3598\n",
            "Epoch 23/25\n",
            "\u001b[1m1382/1382\u001b[0m \u001b[32m━━━━━━━━━━━━━━━━━━━━\u001b[0m\u001b[37m\u001b[0m \u001b[1m653s\u001b[0m 472ms/step - accuracy: 0.8927 - loss: 0.3315 - val_accuracy: 0.8914 - val_loss: 0.3433\n",
            "Epoch 24/25\n",
            "\u001b[1m1382/1382\u001b[0m \u001b[32m━━━━━━━━━━━━━━━━━━━━\u001b[0m\u001b[37m\u001b[0m \u001b[1m651s\u001b[0m 471ms/step - accuracy: 0.8933 - loss: 0.3305 - val_accuracy: 0.8914 - val_loss: 0.3554\n",
            "Epoch 25/25\n",
            "\u001b[1m1382/1382\u001b[0m \u001b[32m━━━━━━━━━━━━━━━━━━━━\u001b[0m\u001b[37m\u001b[0m \u001b[1m657s\u001b[0m 476ms/step - accuracy: 0.8909 - loss: 0.3348 - val_accuracy: 0.8914 - val_loss: 0.3532\n"
          ]
        }
      ],
      "source": [
        "# ✅ Step 10: Train Model\n",
        "history = model.fit(\n",
        "    train_generator,\n",
        "    validation_data=val_generator,\n",
        "    epochs=EPOCHS,\n",
        "    verbose=1\n",
        ")"
      ]
    },
    {
      "cell_type": "code",
      "execution_count": null,
      "metadata": {
        "id": "1z2DybWT0xTl"
      },
      "outputs": [],
      "source": [
        "# ✅ Step 11: Unfreeze Base Model & Fine-tune (Optional)\n",
        "base_model.trainable = True  # Unfreeze for fine-tuning\n",
        "model.compile(optimizer=Adam(learning_rate=0.0001), loss=\"sparse_categorical_crossentropy\", metrics=[\"accuracy\"])\n"
      ]
    },
    {
      "cell_type": "code",
      "execution_count": null,
      "metadata": {
        "colab": {
          "base_uri": "https://localhost:8080/"
        },
        "id": "nxS9QHfY0yln",
        "outputId": "c0b3f9fe-e89f-40d8-b79e-7c68fad9a2e0"
      },
      "outputs": [
        {
          "name": "stdout",
          "output_type": "stream",
          "text": [
            "Epoch 1/10\n",
            "\u001b[1m1382/1382\u001b[0m \u001b[32m━━━━━━━━━━━━━━━━━━━━\u001b[0m\u001b[37m\u001b[0m \u001b[1m788s\u001b[0m 512ms/step - accuracy: 0.9472 - loss: 0.1339 - val_accuracy: 0.1621 - val_loss: 1.7932\n",
            "Epoch 2/10\n",
            "\u001b[1m1382/1382\u001b[0m \u001b[32m━━━━━━━━━━━━━━━━━━━━\u001b[0m\u001b[37m\u001b[0m \u001b[1m655s\u001b[0m 474ms/step - accuracy: 0.9933 - loss: 0.0194 - val_accuracy: 0.3060 - val_loss: 1.9274\n",
            "Epoch 3/10\n",
            "\u001b[1m1382/1382\u001b[0m \u001b[32m━━━━━━━━━━━━━━━━━━━━\u001b[0m\u001b[37m\u001b[0m \u001b[1m656s\u001b[0m 475ms/step - accuracy: 0.9949 - loss: 0.0142 - val_accuracy: 0.1511 - val_loss: 2.0161\n",
            "Epoch 4/10\n",
            "\u001b[1m1382/1382\u001b[0m \u001b[32m━━━━━━━━━━━━━━━━━━━━\u001b[0m\u001b[37m\u001b[0m \u001b[1m655s\u001b[0m 474ms/step - accuracy: 0.9965 - loss: 0.0101 - val_accuracy: 0.1513 - val_loss: 4.7949\n",
            "Epoch 5/10\n",
            "\u001b[1m1382/1382\u001b[0m \u001b[32m━━━━━━━━━━━━━━━━━━━━\u001b[0m\u001b[37m\u001b[0m \u001b[1m655s\u001b[0m 474ms/step - accuracy: 0.9966 - loss: 0.0094 - val_accuracy: 0.4093 - val_loss: 2.2484\n",
            "Epoch 6/10\n",
            "\u001b[1m1382/1382\u001b[0m \u001b[32m━━━━━━━━━━━━━━━━━━━━\u001b[0m\u001b[37m\u001b[0m \u001b[1m657s\u001b[0m 475ms/step - accuracy: 0.9975 - loss: 0.0070 - val_accuracy: 0.1122 - val_loss: 4.4317\n",
            "Epoch 7/10\n",
            "\u001b[1m1382/1382\u001b[0m \u001b[32m━━━━━━━━━━━━━━━━━━━━\u001b[0m\u001b[37m\u001b[0m \u001b[1m660s\u001b[0m 478ms/step - accuracy: 0.9971 - loss: 0.0098 - val_accuracy: 0.8844 - val_loss: 0.9561\n",
            "Epoch 8/10\n",
            "\u001b[1m1382/1382\u001b[0m \u001b[32m━━━━━━━━━━━━━━━━━━━━\u001b[0m\u001b[37m\u001b[0m \u001b[1m659s\u001b[0m 477ms/step - accuracy: 0.9974 - loss: 0.0069 - val_accuracy: 0.9835 - val_loss: 0.0585\n",
            "Epoch 9/10\n",
            "\u001b[1m1382/1382\u001b[0m \u001b[32m━━━━━━━━━━━━━━━━━━━━\u001b[0m\u001b[37m\u001b[0m \u001b[1m652s\u001b[0m 472ms/step - accuracy: 0.9977 - loss: 0.0078 - val_accuracy: 0.2849 - val_loss: 3.6717\n",
            "Epoch 10/10\n",
            "\u001b[1m1382/1382\u001b[0m \u001b[32m━━━━━━━━━━━━━━━━━━━━\u001b[0m\u001b[37m\u001b[0m \u001b[1m656s\u001b[0m 475ms/step - accuracy: 0.9984 - loss: 0.0051 - val_accuracy: 0.8741 - val_loss: 0.4874\n"
          ]
        }
      ],
      "source": [
        "# ✅ Step 12: Continue Training with Fine-Tuning\n",
        "fine_tune_epochs = 10\n",
        "history_fine = model.fit(\n",
        "    train_generator,\n",
        "    validation_data=val_generator,\n",
        "    epochs=fine_tune_epochs,\n",
        "    verbose=1\n",
        ")"
      ]
    },
    {
      "cell_type": "code",
      "execution_count": null,
      "metadata": {
        "colab": {
          "base_uri": "https://localhost:8080/"
        },
        "id": "UwMIowd0FMth",
        "outputId": "ffaa2a85-ae73-40a3-eaff-4ea29fd2d9b4"
      },
      "outputs": [
        {
          "name": "stderr",
          "output_type": "stream",
          "text": [
            "WARNING:absl:You are saving your model as an HDF5 file via `model.save()` or `keras.saving.save_model(model)`. This file format is considered legacy. We recommend using instead the native Keras format, e.g. `model.save('my_model.keras')` or `keras.saving.save_model(model, 'my_model.keras')`. \n"
          ]
        }
      ],
      "source": [
        "# ✅ Step 13: Save Model\n",
        "model.save(\"/content/drive/MyDrive/Fingerprint/fingerprint_model2.h5\")"
      ]
    },
    {
      "cell_type": "code",
      "execution_count": null,
      "metadata": {
        "colab": {
          "base_uri": "https://localhost:8080/",
          "height": 487
        },
        "id": "N6zlU51r0yUN",
        "outputId": "7de915c2-466b-4d9e-bed1-75ad413d7c5c"
      },
      "outputs": [
        {
          "data": {
            "image/png": "[encoded data removed]",
            "text/plain": [
              "<Figure size 1200x500 with 2 Axes>"
            ]
          },
          "metadata": {},
          "output_type": "display_data"
        }
      ],
      "source": [
        "# ✅ Step 13: Plot Accuracy & Loss Graphs\n",
        "def plot_training(history):\n",
        "    plt.figure(figsize=(12,5))\n",
        "\n",
        "    # Accuracy\n",
        "    plt.subplot(1,2,1)\n",
        "    plt.plot(history.history[\"accuracy\"], label=\"Train Accuracy\")\n",
        "    plt.plot(history.history[\"val_accuracy\"], label=\"Validation Accuracy\")\n",
        "    plt.xlabel(\"Epochs\")\n",
        "    plt.ylabel(\"Accuracy\")\n",
        "    plt.legend()\n",
        "    plt.title(\"Model Accuracy\")\n",
        "\n",
        "    # Loss\n",
        "    plt.subplot(1,2,2)\n",
        "    plt.plot(history.history[\"loss\"], label=\"Train Loss\")\n",
        "    plt.plot(history.history[\"val_loss\"], label=\"Validation Loss\")\n",
        "    plt.xlabel(\"Epochs\")\n",
        "    plt.ylabel(\"Loss\")\n",
        "    plt.legend()\n",
        "    plt.title(\"Model Loss\")\n",
        "\n",
        "    plt.show()\n",
        "\n",
        "plot_training(history)\n"
      ]
    },
    {
      "cell_type": "code",
      "execution_count": null,
      "metadata": {
        "colab": {
          "base_uri": "https://localhost:8080/"
        },
        "id": "zFySp61i0yF2",
        "outputId": "95815712-9ce8-4763-8a37-937fe25038d1"
      },
      "outputs": [
        {
          "name": "stdout",
          "output_type": "stream",
          "text": [
            "\u001b[1m346/346\u001b[0m \u001b[32m━━━━━━━━━━━━━━━━━━━━\u001b[0m\u001b[37m\u001b[0m \u001b[1m133s\u001b[0m 383ms/step - accuracy: 0.8780 - loss: 0.4963\n",
            "\n",
            "🔹 Final Validation Accuracy: 87.65%\n"
          ]
        }
      ],
      "source": [
        "# ✅ Step 14: Evaluate Model on Validation Data\n",
        "val_loss, val_acc = model.evaluate(val_generator)\n",
        "print(f\"\\n🔹 Final Validation Accuracy: {val_acc*100:.2f}%\")"
      ]
    },
    {
      "cell_type": "code",
      "execution_count": null,
      "metadata": {
        "colab": {
          "base_uri": "https://localhost:8080/",
          "height": 849
        },
        "id": "i7HWZrFa1Fjr",
        "outputId": "f408c72b-7c77-4e75-f2cf-4192c3b6a340"
      },
      "outputs": [
        {
          "name": "stdout",
          "output_type": "stream",
          "text": [
            "\u001b[1m346/346\u001b[0m \u001b[32m━━━━━━━━━━━━━━━━━━━━\u001b[0m\u001b[37m\u001b[0m \u001b[1m143s\u001b[0m 395ms/step\n"
          ]
        },
        {
          "data": {
            "image/png": "[encoded data removed]",
            "text/plain": [
              "<Figure size 1000x700 with 2 Axes>"
            ]
          },
          "metadata": {},
          "output_type": "display_data"
        },
        {
          "name": "stdout",
          "output_type": "stream",
          "text": [
            "\n",
            "Classification Report:\n",
            "               precision    recall  f1-score   support\n",
            "\n",
            "           0       0.89      0.77      0.83      9854\n",
            "           1       0.11      0.24      0.16      1200\n",
            "\n",
            "    accuracy                           0.72     11054\n",
            "   macro avg       0.50      0.51      0.49     11054\n",
            "weighted avg       0.81      0.72      0.76     11054\n",
            "\n"
          ]
        }
      ],
      "source": [
        "# ✅ Step 15: Confusion Matrix & Classification Report\n",
        "def plot_confusion_matrix(model, generator):\n",
        "    y_true = generator.classes\n",
        "    y_pred = np.argmax(model.predict(generator), axis=1)\n",
        "\n",
        "    cm = confusion_matrix(y_true, y_pred)\n",
        "    plt.figure(figsize=(10,7))\n",
        "    sns.heatmap(cm, annot=True, fmt=\"d\", cmap=\"Blues\", xticklabels=generator.class_indices, yticklabels=generator.class_indices)\n",
        "    plt.xlabel(\"Predicted\")\n",
        "    plt.ylabel(\"Actual\")\n",
        "    plt.title(\"Confusion Matrix\")\n",
        "    plt.show()\n",
        "\n",
        "    print(\"\\nClassification Report:\\n\", classification_report(y_true, y_pred))\n",
        "\n",
        "plot_confusion_matrix(model, val_generator)"
      ]
    },
    {
      "cell_type": "code",
      "execution_count": null,
      "metadata": {
        "colab": {
          "base_uri": "https://localhost:8080/"
        },
        "id": "6IRTc71g1FW2",
        "outputId": "ceb004eb-2519-4bef-bd94-528015cf8ce4"
      },
      "outputs": [
        {
          "name": "stdout",
          "output_type": "stream",
          "text": [
            "\u001b[1m1/1\u001b[0m \u001b[32m━━━━━━━━━━━━━━━━━━━━\u001b[0m\u001b[37m\u001b[0m \u001b[1m7s\u001b[0m 7s/step\n",
            "Matched Subject ID: 1\n"
          ]
        }
      ],
      "source": [
        "def match_fingerprint(image_path, model, label_encoder):\n",
        "    # Load and preprocess image\n",
        "    img = cv2.imread(image_path, cv2.IMREAD_GRAYSCALE)\n",
        "    img = cv2.resize(img, (224, 224)) / 255.0\n",
        "    img = np.expand_dims(img, axis=-1)  # Add channel dimension\n",
        "    img = np.repeat(img, 3, axis=-1)  # Convert to 3 channels\n",
        "    img = np.expand_dims(img, axis=0)  # Add batch dimension\n",
        "\n",
        "    # Get prediction\n",
        "    pred = model.predict(img)\n",
        "    predicted_label = np.argmax(pred, axis=1)\n",
        "\n",
        "    # Convert numeric label back to SubjectID\n",
        "    subject_id = label_encoder.inverse_transform(predicted_label)[0]\n",
        "    return subject_id\n",
        "\n",
        "# Example usage:\n",
        "image_path = \"/content/finger1.BMP\"\n",
        "subject_id = match_fingerprint(image_path, model, label_encoder)\n",
        "print(f\"Matched Subject ID: {subject_id}\")"
      ]
    },
    {
      "cell_type": "code",
      "execution_count": null,
      "metadata": {
        "colab": {
          "base_uri": "https://localhost:8080/"
        },
        "id": "sRuTX-R1QxFH",
        "outputId": "4b5db770-3066-4d27-8fad-9cf10dbb17e5"
      },
      "outputs": [
        {
          "name": "stdout",
          "output_type": "stream",
          "text": [
            "Matched image not found in dataset.\n"
          ]
        }
      ],
      "source": [
        "import cv2\n",
        "import matplotlib.pyplot as plt\n",
        "import os\n",
        "\n",
        "def visualize_match(image_path, matched_subject_id, dataset_path):\n",
        "    # Load and preprocess query image\n",
        "    query_img = cv2.imread(image_path, cv2.IMREAD_GRAYSCALE)\n",
        "\n",
        "    # Find the matched image in the dataset\n",
        "    matched_image_path = None\n",
        "    for file in os.listdir(dataset_path):\n",
        "        if file.startswith(matched_subject_id):  # Match subject ID with dataset\n",
        "            matched_image_path = os.path.join(dataset_path, file)\n",
        "            break\n",
        "\n",
        "    if matched_image_path:\n",
        "        matched_img = cv2.imread(matched_image_path, cv2.IMREAD_GRAYSCALE)\n",
        "    else:\n",
        "        print(\"Matched image not found in dataset.\")\n",
        "        return\n",
        "\n",
        "    # Plot images side by side\n",
        "    plt.figure(figsize=(8, 4))\n",
        "    plt.subplot(1, 2, 1)\n",
        "    plt.imshow(query_img, cmap='gray')\n",
        "    plt.title(\"Query Image\")\n",
        "    plt.axis(\"off\")\n",
        "\n",
        "    plt.subplot(1, 2, 2)\n",
        "    plt.imshow(matched_img, cmap='gray')\n",
        "    plt.title(f\"Matched Image: {matched_subject_id}\")\n",
        "    plt.axis(\"off\")\n",
        "\n",
        "    plt.show()\n",
        "\n",
        " # Change to your dataset folder\n",
        "visualize_match(image_path, subject_id, dataset_path)\n"
      ]
    },
    {
      "cell_type": "code",
      "execution_count": null,
      "metadata": {
        "colab": {
          "base_uri": "https://localhost:8080/",
          "height": 472
        },
        "id": "XUSCr6hiTKMW",
        "outputId": "6bafe913-a904-48bf-b025-21e31693e89b"
      },
      "outputs": [
        {
          "name": "stdout",
          "output_type": "stream",
          "text": [
            "\u001b[1m1/1\u001b[0m \u001b[32m━━━━━━━━━━━━━━━━━━━━\u001b[0m\u001b[37m\u001b[0m \u001b[1m0s\u001b[0m 43ms/step\n"
          ]
        },
        {
          "data": {
            "image/png": "[encoded data removed]",
            "text/plain": [
              "<Figure size 1000x500 with 2 Axes>"
            ]
          },
          "metadata": {},
          "output_type": "display_data"
        },
        {
          "name": "stdout",
          "output_type": "stream",
          "text": [
            "✅ Matched Subject ID: 1\n"
          ]
        }
      ],
      "source": [
        "import cv2\n",
        "import numpy as np\n",
        "import matplotlib.pyplot as plt\n",
        "import os\n",
        "\n",
        "def match_fingerprint(image_path, model, label_encoder, database_path):\n",
        "    # Load and preprocess test image\n",
        "    img = cv2.imread(image_path, cv2.IMREAD_GRAYSCALE)\n",
        "    if img is None:\n",
        "        raise ValueError(f\"Error: Test image not found at {image_path}\")\n",
        "\n",
        "    img_resized = cv2.resize(img, (224, 224)) / 255.0\n",
        "    img_resized = np.expand_dims(img_resized, axis=-1)  # Add channel dimension\n",
        "    img_resized = np.repeat(img_resized, 3, axis=-1)  # Convert to 3 channels\n",
        "    img_resized = np.expand_dims(img_resized, axis=0)  # Add batch dimension\n",
        "\n",
        "    # Get prediction\n",
        "    pred = model.predict(img_resized)\n",
        "    predicted_label = np.argmax(pred, axis=1)\n",
        "\n",
        "    # Convert numeric label back to SubjectID\n",
        "    subject_id = label_encoder.inverse_transform(predicted_label)[0]\n",
        "\n",
        "    # Find the matched fingerprint in the database\n",
        "    matched_filename = None\n",
        "    for filename in os.listdir(database_path):\n",
        "        if filename.startswith(f\"{subject_id}__\"):  # Match subject ID pattern\n",
        "            matched_filename = filename\n",
        "            break\n",
        "\n",
        "    if not matched_filename:\n",
        "        print(f\"❌ No Match Found for Subject ID: {subject_id}\")\n",
        "        return None\n",
        "\n",
        "    matched_image_path = os.path.join(database_path, matched_filename)\n",
        "\n",
        "    # Load matched fingerprint image\n",
        "    matched_img = cv2.imread(matched_image_path, cv2.IMREAD_GRAYSCALE)\n",
        "    if matched_img is None:\n",
        "        raise ValueError(f\"Error: Unable to load matched image at {matched_image_path}\")\n",
        "\n",
        "    # Visualize Test and Matched Images\n",
        "    fig, axes = plt.subplots(1, 2, figsize=(10, 5))\n",
        "    axes[0].imshow(img, cmap=\"gray\")\n",
        "    axes[0].set_title(\"Test Image\")\n",
        "    axes[0].axis(\"off\")\n",
        "\n",
        "    axes[1].imshow(matched_img, cmap=\"gray\")\n",
        "    axes[1].set_title(f\"Matched Image: {matched_filename}\")\n",
        "    axes[1].axis(\"off\")\n",
        "\n",
        "    plt.show()\n",
        "\n",
        "    return subject_id\n",
        "\n",
        "# Example usage\n",
        "image_path = \"/content/finger1.BMP\"  # Update with your test fingerprint path\n",
        "database_path = \"/content/drive/MyDrive/Fingerprint/SOCOFing/Real\"\n",
        "subject_id = match_fingerprint(image_path, model, label_encoder, database_path)\n",
        "\n",
        "if subject_id:\n",
        "    print(f\"✅ Matched Subject ID: {subject_id}\")\n"
      ]
    },
    {
      "cell_type": "code",
      "execution_count": null,
      "metadata": {
        "id": "S462XDK1TqhI"
      },
      "outputs": [],
      "source": []
    }
  ],
  "metadata": {
    "accelerator": "GPU",
    "colab": {
      "gpuType": "A100",
      "machine_shape": "hm",
      "provenance": []
    },
    "kernelspec": {
      "display_name": "Python 3",
      "name": "python3"
    },
    "language_info": {
      "name": "python"
    }
  },
  "nbformat": 4,
  "nbformat_minor": 0
}